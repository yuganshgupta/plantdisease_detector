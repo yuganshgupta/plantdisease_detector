{
  "nbformat": 4,
  "nbformat_minor": 0,
  "metadata": {
    "colab": {
      "provenance": []
    },
    "kernelspec": {
      "name": "python3",
      "display_name": "Python 3"
    },
    "language_info": {
      "name": "python"
    }
  },
  "cells": [
    {
      "cell_type": "code",
      "source": [
        "import tensorflow as tf\n",
        "import matplotlib.pyplot as plt\n",
        "import pandas as pd\n",
        "import seaborn as sns"
      ],
      "metadata": {
        "id": "hLCzBMrlFBJt"
      },
      "execution_count": null,
      "outputs": []
    },
    {
      "cell_type": "code",
      "source": [
        "directory = r\"C:\\Users\\yugan\\Downloads\\plant dataset\""
      ],
      "metadata": {
        "id": "DyRKtJ04HLDT"
      },
      "execution_count": null,
      "outputs": []
    },
    {
      "cell_type": "code",
      "execution_count": null,
      "metadata": {
        "id": "NvylneTGb3iO",
        "colab": {
          "base_uri": "https://localhost:8080/"
        },
        "outputId": "b8eecf62-0d5a-4a2f-f50b-6c38709e0e01"
      },
      "outputs": [
        {
          "output_type": "stream",
          "name": "stdout",
          "text": [
            "Found 70295 files belonging to 38 classes.\n"
          ]
        }
      ],
      "source": [
        "directory = r\"C:\\Users\\yugan\\Downloads\\plant dataset\\NPD\"\n",
        "\n",
        "# Update the path to include the 'train' subdirectory\n",
        "training_set = tf.keras.utils.image_dataset_from_directory(\n",
        "    directory + '/train',  # Add '/train' to the end of the directory path\n",
        "    labels=\"inferred\",\n",
        "    label_mode=\"categorical\",\n",
        "    class_names=None,\n",
        "    color_mode=\"rgb\",\n",
        "    batch_size=32,\n",
        "    image_size=(128, 128),\n",
        "    shuffle=True,\n",
        "    seed=None,\n",
        "    validation_split=None,\n",
        "    subset=None,\n",
        "    interpolation=\"bilinear\",\n",
        "    follow_links=False,\n",
        "    crop_to_aspect_ratio=False\n",
        ")"
      ]
    },
    {
      "cell_type": "code",
      "source": [
        "validation_set = tf.keras.utils.image_dataset_from_directory(\n",
        "    directory + '/valid',  # Correctly points to the validation data folder\n",
        "    labels=\"inferred\",     # Infers labels from subdirectories within 'valid'\n",
        "    label_mode=\"categorical\",\n",
        "    class_names=None,\n",
        "    color_mode=\"rgb\",\n",
        "    batch_size=32,\n",
        "    image_size=(128, 128),\n",
        "    shuffle=True,\n",
        "    seed=None,\n",
        "    validation_split=None,\n",
        "    subset=None,\n",
        "    interpolation=\"bilinear\",\n",
        "    follow_links=False,\n",
        "    crop_to_aspect_ratio=False\n",
        ")"
      ],
      "metadata": {
        "colab": {
          "base_uri": "https://localhost:8080/"
        },
        "id": "pCgpQZogFTcv",
        "outputId": "b7079eb9-3262-4304-9605-45dce74616fa"
      },
      "execution_count": null,
      "outputs": [
        {
          "output_type": "stream",
          "name": "stdout",
          "text": [
            "Found 17572 files belonging to 38 classes.\n"
          ]
        }
      ]
    },
    {
      "cell_type": "code",
      "source": [
        "cnn = tf.keras.models.Sequential()"
      ],
      "metadata": {
        "id": "L0Roz9DzHHUG"
      },
      "execution_count": null,
      "outputs": []
    },
    {
      "cell_type": "code",
      "source": [
        "cnn.add(tf.keras.layers.Conv2D(filters=32,kernel_size=3,padding='same',activation='relu',input_shape=[128,128,3]))\n",
        "cnn.add(tf.keras.layers.Conv2D(filters=32,kernel_size=3,activation='relu'))\n",
        "cnn.add(tf.keras.layers.MaxPool2D(pool_size=2,strides=2))"
      ],
      "metadata": {
        "id": "iV0EA2wbIcOp"
      },
      "execution_count": null,
      "outputs": []
    },
    {
      "cell_type": "code",
      "source": [
        "cnn.add(tf.keras.layers.Conv2D(filters=64,kernel_size=3,padding='same',activation='relu'))\n",
        "cnn.add(tf.keras.layers.Conv2D(filters=64,kernel_size=3,activation='relu'))\n",
        "cnn.add(tf.keras.layers.MaxPool2D(pool_size=2,strides=2))"
      ],
      "metadata": {
        "id": "2TVNyc23JKp2"
      },
      "execution_count": null,
      "outputs": []
    },
    {
      "cell_type": "code",
      "source": [
        "cnn.add(tf.keras.layers.Conv2D(filters=128,kernel_size=3,padding='same',activation='relu'))\n",
        "cnn.add(tf.keras.layers.Conv2D(filters=128,kernel_size=3,activation='relu'))\n",
        "cnn.add(tf.keras.layers.MaxPool2D(pool_size=2,strides=2))\n"
      ],
      "metadata": {
        "id": "Qs8MsACVJMsG"
      },
      "execution_count": null,
      "outputs": []
    },
    {
      "cell_type": "code",
      "source": [
        "cnn.add(tf.keras.layers.Conv2D(filters=256,kernel_size=3,padding='same',activation='relu'))\n",
        "cnn.add(tf.keras.layers.Conv2D(filters=256,kernel_size=3,activation='relu'))\n",
        "cnn.add(tf.keras.layers.MaxPool2D(pool_size=2,strides=2))"
      ],
      "metadata": {
        "id": "cvczmuqLJOKk"
      },
      "execution_count": null,
      "outputs": []
    },
    {
      "cell_type": "code",
      "source": [
        "cnn.add(tf.keras.layers.Conv2D(filters=512,kernel_size=3,padding='same',activation='relu'))\n",
        "cnn.add(tf.keras.layers.Conv2D(filters=512,kernel_size=3,activation='relu'))\n",
        "cnn.add(tf.keras.layers.MaxPool2D(pool_size=2,strides=2))"
      ],
      "metadata": {
        "id": "G0hu-rlIKGmF"
      },
      "execution_count": null,
      "outputs": []
    },
    {
      "cell_type": "code",
      "source": [
        "cnn.add(tf.keras.layers.Dropout(0.25))"
      ],
      "metadata": {
        "id": "KkRurWWyKH_o"
      },
      "execution_count": null,
      "outputs": []
    },
    {
      "cell_type": "code",
      "source": [
        "cnn.add(tf.keras.layers.Flatten())"
      ],
      "metadata": {
        "id": "BKXwWSWyKJ5Y"
      },
      "execution_count": null,
      "outputs": []
    },
    {
      "cell_type": "code",
      "source": [
        "cnn.add(tf.keras.layers.Dense(units=1500,activation='relu'))"
      ],
      "metadata": {
        "id": "JC2PJpoNKK16"
      },
      "execution_count": null,
      "outputs": []
    },
    {
      "cell_type": "code",
      "source": [
        "cnn.add(tf.keras.layers.Dropout(0.4)) #To avoid overfitting"
      ],
      "metadata": {
        "id": "9vxZtP0FKL_2"
      },
      "execution_count": null,
      "outputs": []
    },
    {
      "cell_type": "code",
      "source": [
        "#Output Layer\n",
        "cnn.add(tf.keras.layers.Dense(units=38,activation='softmax')) # Change units to 38 to match the number of classes"
      ],
      "metadata": {
        "id": "GlZ6z-BYKNbG"
      },
      "execution_count": null,
      "outputs": []
    },
    {
      "cell_type": "code",
      "source": [
        "cnn.compile(optimizer=tf.keras.optimizers.legacy.Adam(\n",
        "    learning_rate=0.0001),loss='categorical_crossentropy',metrics=['accuracy'])"
      ],
      "metadata": {
        "id": "QweJJJawKOYK"
      },
      "execution_count": null,
      "outputs": []
    },
    {
      "cell_type": "code",
      "source": [
        "cnn.summary()"
      ],
      "metadata": {
        "colab": {
          "base_uri": "https://localhost:8080/"
        },
        "id": "-NnVfKFJKQn7",
        "outputId": "67a2834b-1935-495e-dc71-424221644ab1"
      },
      "execution_count": null,
      "outputs": [
        {
          "output_type": "stream",
          "name": "stdout",
          "text": [
            "Model: \"sequential_1\"\n",
            "_________________________________________________________________\n",
            " Layer (type)                Output Shape              Param #   \n",
            "=================================================================\n",
            " conv2d_10 (Conv2D)          (None, 128, 128, 32)      896       \n",
            "                                                                 \n",
            " conv2d_11 (Conv2D)          (None, 126, 126, 32)      9248      \n",
            "                                                                 \n",
            " max_pooling2d_5 (MaxPooling  (None, 63, 63, 32)       0         \n",
            " 2D)                                                             \n",
            "                                                                 \n",
            " conv2d_12 (Conv2D)          (None, 63, 63, 64)        18496     \n",
            "                                                                 \n",
            " conv2d_13 (Conv2D)          (None, 61, 61, 64)        36928     \n",
            "                                                                 \n",
            " max_pooling2d_6 (MaxPooling  (None, 30, 30, 64)       0         \n",
            " 2D)                                                             \n",
            "                                                                 \n",
            " conv2d_14 (Conv2D)          (None, 30, 30, 128)       73856     \n",
            "                                                                 \n",
            " conv2d_15 (Conv2D)          (None, 28, 28, 128)       147584    \n",
            "                                                                 \n",
            " max_pooling2d_7 (MaxPooling  (None, 14, 14, 128)      0         \n",
            " 2D)                                                             \n",
            "                                                                 \n",
            " conv2d_16 (Conv2D)          (None, 14, 14, 256)       295168    \n",
            "                                                                 \n",
            " conv2d_17 (Conv2D)          (None, 12, 12, 256)       590080    \n",
            "                                                                 \n",
            " max_pooling2d_8 (MaxPooling  (None, 6, 6, 256)        0         \n",
            " 2D)                                                             \n",
            "                                                                 \n",
            " conv2d_18 (Conv2D)          (None, 6, 6, 512)         1180160   \n",
            "                                                                 \n",
            " conv2d_19 (Conv2D)          (None, 4, 4, 512)         2359808   \n",
            "                                                                 \n",
            " max_pooling2d_9 (MaxPooling  (None, 2, 2, 512)        0         \n",
            " 2D)                                                             \n",
            "                                                                 \n",
            " dropout_1 (Dropout)         (None, 2, 2, 512)         0         \n",
            "                                                                 \n",
            " flatten_1 (Flatten)         (None, 2048)              0         \n",
            "                                                                 \n",
            " dense_1 (Dense)             (None, 1500)              3073500   \n",
            "                                                                 \n",
            " dropout_2 (Dropout)         (None, 1500)              0         \n",
            "                                                                 \n",
            " dense_2 (Dense)             (None, 38)                57038     \n",
            "                                                                 \n",
            "=================================================================\n",
            "Total params: 7,842,762\n",
            "Trainable params: 7,842,762\n",
            "Non-trainable params: 0\n",
            "_________________________________________________________________\n"
          ]
        }
      ]
    },
    {
      "cell_type": "code",
      "source": [
        "training_history = cnn.fit(x=training_set,validation_data=validation_set,epochs=15)"
      ],
      "metadata": {
        "colab": {
          "base_uri": "https://localhost:8080/"
        },
        "id": "Htz6tOGwKSWo",
        "outputId": "44dca197-9686-472e-d792-9e0e19cd804b"
      },
      "execution_count": null,
      "outputs": [
        {
          "output_type": "stream",
          "name": "stdout",
          "text": [
            "Epoch 1/15\n",
            "2197/2197 [==============================] - 88s 40ms/step - loss: 0.0306 - accuracy: 0.9907 - val_loss: 0.1072 - val_accuracy: 0.9723\n",
            "Epoch 2/15\n",
            "2197/2197 [==============================] - 88s 40ms/step - loss: 0.0318 - accuracy: 0.9900 - val_loss: 0.1214 - val_accuracy: 0.9690\n",
            "Epoch 3/15\n",
            "2197/2197 [==============================] - 87s 40ms/step - loss: 0.0299 - accuracy: 0.9910 - val_loss: 0.1436 - val_accuracy: 0.9627\n",
            "Epoch 4/15\n",
            "2197/2197 [==============================] - 87s 39ms/step - loss: 0.0263 - accuracy: 0.9919 - val_loss: 0.0866 - val_accuracy: 0.9779\n",
            "Epoch 5/15\n",
            "2197/2197 [==============================] - 87s 39ms/step - loss: 0.0294 - accuracy: 0.9910 - val_loss: 0.0864 - val_accuracy: 0.9760\n",
            "Epoch 6/15\n",
            "2197/2197 [==============================] - 87s 39ms/step - loss: 0.0234 - accuracy: 0.9930 - val_loss: 0.0878 - val_accuracy: 0.9772\n",
            "Epoch 7/15\n",
            "2197/2197 [==============================] - 87s 39ms/step - loss: 0.0262 - accuracy: 0.9917 - val_loss: 0.1011 - val_accuracy: 0.9758\n",
            "Epoch 8/15\n",
            "2197/2197 [==============================] - 88s 40ms/step - loss: 0.0246 - accuracy: 0.9925 - val_loss: 0.1044 - val_accuracy: 0.9692\n",
            "Epoch 9/15\n",
            "2197/2197 [==============================] - 87s 40ms/step - loss: 0.0239 - accuracy: 0.9929 - val_loss: 0.0974 - val_accuracy: 0.9745\n",
            "Epoch 10/15\n",
            "2197/2197 [==============================] - 87s 40ms/step - loss: 0.0185 - accuracy: 0.9947 - val_loss: 0.1513 - val_accuracy: 0.9634\n",
            "Epoch 11/15\n",
            "2197/2197 [==============================] - 87s 40ms/step - loss: 0.0217 - accuracy: 0.9936 - val_loss: 0.1191 - val_accuracy: 0.9723\n",
            "Epoch 12/15\n",
            "2197/2197 [==============================] - 88s 40ms/step - loss: 0.0176 - accuracy: 0.9946 - val_loss: 0.1296 - val_accuracy: 0.9697\n",
            "Epoch 13/15\n",
            "2197/2197 [==============================] - 86s 39ms/step - loss: 0.0203 - accuracy: 0.9942 - val_loss: 0.0937 - val_accuracy: 0.9771\n",
            "Epoch 14/15\n",
            "2197/2197 [==============================] - 88s 40ms/step - loss: 0.0218 - accuracy: 0.9936 - val_loss: 0.0897 - val_accuracy: 0.9777\n",
            "Epoch 15/15\n",
            "2197/2197 [==============================] - 90s 41ms/step - loss: 0.0210 - accuracy: 0.9937 - val_loss: 0.1252 - val_accuracy: 0.9689\n"
          ]
        }
      ]
    },
    {
      "cell_type": "code",
      "source": [
        "#Training set Accuracy\n",
        "train_loss, train_acc = cnn.evaluate(training_set)\n",
        "print('Training accuracy:', train_acc)"
      ],
      "metadata": {
        "colab": {
          "base_uri": "https://localhost:8080/"
        },
        "id": "qbWheTP0KX2U",
        "outputId": "ffa597e1-c3c8-446e-85cf-200b3b6943a1"
      },
      "execution_count": null,
      "outputs": [
        {
          "output_type": "stream",
          "name": "stdout",
          "text": [
            "2197/2197 [==============================] - 30s 14ms/step - loss: 0.0164 - accuracy: 0.9951\n",
            "Training accuracy: 0.9951347708702087\n"
          ]
        }
      ]
    },
    {
      "cell_type": "code",
      "source": [
        "#Validation set Accuracy\n",
        "val_loss, val_acc = cnn.evaluate(validation_set)\n",
        "print('Validation accuracy:', val_acc)"
      ],
      "metadata": {
        "colab": {
          "base_uri": "https://localhost:8080/"
        },
        "id": "VH7KN9O6oM2a",
        "outputId": "2e7827cd-1cb2-493b-c11b-d63687b741d4"
      },
      "execution_count": null,
      "outputs": [
        {
          "output_type": "stream",
          "name": "stdout",
          "text": [
            "550/550 [==============================] - 8s 14ms/step - loss: 0.1252 - accuracy: 0.9689\n",
            "Validation accuracy: 0.9688709378242493\n"
          ]
        }
      ]
    },
    {
      "cell_type": "code",
      "source": [
        "cnn.save('trained_plant_disease_model.keras')"
      ],
      "metadata": {
        "id": "nfcPWwl0oPgt"
      },
      "execution_count": null,
      "outputs": []
    },
    {
      "cell_type": "code",
      "source": [],
      "metadata": {
        "id": "JG1oMvWIo0tx"
      },
      "execution_count": null,
      "outputs": []
    }
  ]
}